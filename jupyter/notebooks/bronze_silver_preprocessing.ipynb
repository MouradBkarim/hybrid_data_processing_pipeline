{
 "cells": [
  {
   "cell_type": "markdown",
   "id": "df530775",
   "metadata": {},
   "source": [
    "# Bronze Layer: Streaming Ingestion\n",
    "This notebook reads incoming raw JSON events written by the RabbitMQ consumer to the `bronze` S3 bucket.\n",
    "\n",
    "We'll use PySpark Structured Streaming to read, parse, and store these events in Delta Lake format for downstream processing."
   ]
  },
  {
   "cell_type": "markdown",
   "id": "47a7b995",
   "metadata": {},
   "source": [
    "### 1. Init Spark"
   ]
  },
  {
   "cell_type": "code",
   "execution_count": 1,
   "id": "855f379b",
   "metadata": {},
   "outputs": [],
   "source": [
    "from pyspark.sql import SparkSession\n",
    "\n",
    "spark = (\n",
    "    SparkSession.builder.appName(\"BronzeIngest\")\n",
    "    .config(\"spark.sql.extensions\", \"io.delta.sql.DeltaSparkSessionExtension\")\n",
    "    .config(\"spark.sql.catalog.spark_catalog\", \"org.apache.spark.sql.delta.catalog.DeltaCatalog\")\n",
    "    .getOrCreate()\n",
    ")\n"
   ]
  },
  {
   "cell_type": "markdown",
   "id": "34266ced",
   "metadata": {},
   "source": [
    "### 2. Define Schema & Source Path"
   ]
  },
  {
   "cell_type": "code",
   "execution_count": 2,
   "id": "9aec684c",
   "metadata": {},
   "outputs": [],
   "source": [
    "from pyspark.sql.types import StructType, StructField, StringType, TimestampType, DoubleType\n",
    "\n",
    "schema = StructType([\n",
    "    StructField(\"user_id\", StringType()),\n",
    "    StructField(\"event_type\", StringType()),\n",
    "    StructField(\"timestamp\", StringType()),  # will cast to Timestamp later\n",
    "    StructField(\"location\", StructType([\n",
    "        StructField(\"lat\", DoubleType()),\n",
    "        StructField(\"lon\", DoubleType())\n",
    "    ]))\n",
    "])\n",
    "\n",
    "source_path = \"/mnt/s3mock/bronze/realtime/events\"\n",
    "checkpoint_path = \"/mnt/s3mock/bronze/realtime/_checkpoints\""
   ]
  },
  {
   "cell_type": "markdown",
   "id": "57cc27f0",
   "metadata": {},
   "source": [
    "### 3. Start Structured Stream"
   ]
  },
  {
   "cell_type": "code",
   "execution_count": 3,
   "id": "20f140be",
   "metadata": {
    "scrolled": true
   },
   "outputs": [],
   "source": [
    "from pyspark.sql.functions import col, from_json, to_timestamp\n",
    "\n",
    "raw_df = spark.readStream \\\n",
    "    .schema(schema) \\\n",
    "    .json(source_path)\n",
    "\n",
    "cleaned_df = raw_df.withColumn(\"event_timestamp\", to_timestamp(col(\"timestamp\")))\n",
    "\n",
    "query = cleaned_df.writeStream \\\n",
    "    .format(\"delta\") \\\n",
    "    .option(\"checkpointLocation\", checkpoint_path) \\\n",
    "    .outputMode(\"append\") \\\n",
    "    .start(\"/mnt/s3mock/silver/realtime/events\")"
   ]
  },
  {
   "cell_type": "markdown",
   "id": "f9b8a399",
   "metadata": {},
   "source": [
    "### 4. Monitor Progress"
   ]
  },
  {
   "cell_type": "code",
   "execution_count": null,
   "id": "0ccf00b8",
   "metadata": {},
   "outputs": [],
   "source": [
    "query.awaitTermination()"
   ]
  }
 ],
 "metadata": {
  "kernelspec": {
   "display_name": "Python 3 (ipykernel)",
   "language": "python",
   "name": "python3"
  },
  "language_info": {
   "codemirror_mode": {
    "name": "ipython",
    "version": 3
   },
   "file_extension": ".py",
   "mimetype": "text/x-python",
   "name": "python",
   "nbconvert_exporter": "python",
   "pygments_lexer": "ipython3",
   "version": "3.11.5"
  }
 },
 "nbformat": 4,
 "nbformat_minor": 5
}
