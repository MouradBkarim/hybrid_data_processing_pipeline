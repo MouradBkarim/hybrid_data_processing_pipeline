{
 "cells": [
  {
   "cell_type": "markdown",
   "metadata": {},
   "source": [
    "# Gold Layer: Streaming Ingestion\n",
    "## Use Case: User Activity per Event Type per Day\n",
    "### Aggregate:\n",
    "count of events per event_type AND grouped by day\n",
    "\n",
    "### Inputs/Outputs:\n",
    "Input Silver Table: /mnt/s3mock/silver/events\n",
    "Output Gold Table: /mnt/s3mock/gold/aggregates"
   ]
  },
  {
   "cell_type": "markdown",
   "metadata": {},
   "source": [
    "### 1. Init Spark and S3 paths"
   ]
  },
  {
   "cell_type": "code",
   "execution_count": 1,
   "metadata": {},
   "outputs": [],
   "source": [
    "from pyspark.sql import SparkSession\n",
    "from pyspark.sql.functions import col, to_date, approx_count_distinct\n",
    "\n",
    "spark = (\n",
    "    SparkSession.builder.appName(\"GoldAggregation\")\n",
    "    .config(\"spark.sql.extensions\", \"io.delta.sql.DeltaSparkSessionExtension\")\n",
    "    .config(\"spark.sql.catalog.spark_catalog\", \"org.apache.spark.sql.delta.catalog.DeltaCatalog\")\n",
    "    .getOrCreate()\n",
    ")\n",
    "\n",
    "# S3 Paths\n",
    "silver_path = \"/mnt/s3mock/silver/realtime/events\"\n",
    "gold_path = \"/mnt/s3mock/gold/realtime/aggregates\"\n",
    "checkpoint_path = \"/mnt/s3mock/checkpoints/gold_aggregates\"\n"
   ]
  },
  {
   "cell_type": "markdown",
   "metadata": {},
   "source": [
    "### 2. Core logic"
   ]
  },
  {
   "cell_type": "code",
   "execution_count": null,
   "metadata": {},
   "outputs": [],
   "source": [
    "silver_df = spark.readStream.format(\"delta\").load(silver_path)\n",
    "\n",
    "agg_df = silver_df \\\n",
    "    .withColumn(\"event_date\", to_date(col(\"event_timestamp\"))) \\\n",
    "    .groupBy(\"event_date\", \"event_type\") \\\n",
    "    .agg(\n",
    "        approx_count_distinct(\"user_id\").alias(\"unique_users\"),\n",
    "        approx_count_distinct(\"timestamp\").alias(\"event_count\")\n",
    "    )\n",
    "\n",
    "query = agg_df.writeStream \\\n",
    "    .format(\"delta\") \\\n",
    "    .outputMode(\"complete\") \\\n",
    "    .option(\"checkpointLocation\", checkpoint_path) \\\n",
    "    .start(gold_path)\n",
    "\n",
    "query.awaitTermination()"
   ]
  }
 ],
 "metadata": {
  "kernelspec": {
   "display_name": "Python 3 (ipykernel)",
   "language": "python",
   "name": "python3"
  },
  "language_info": {
   "codemirror_mode": {
    "name": "ipython",
    "version": 3
   },
   "file_extension": ".py",
   "mimetype": "text/x-python",
   "name": "python",
   "nbconvert_exporter": "python",
   "pygments_lexer": "ipython3",
   "version": "3.11.5"
  }
 },
 "nbformat": 4,
 "nbformat_minor": 4
}
