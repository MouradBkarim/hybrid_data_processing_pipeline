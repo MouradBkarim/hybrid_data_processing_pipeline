{
 "cells": [
  {
   "cell_type": "markdown",
   "id": "df530775",
   "metadata": {},
   "source": [
    "# Batch processing\n",
    "This notebook loads table from Postgres, clean it, aggregate and save in `Gold` S3 bucket"
   ]
  },
  {
   "cell_type": "markdown",
   "id": "94e1206e",
   "metadata": {},
   "source": [
    "### 1. Import libraries"
   ]
  },
  {
   "cell_type": "code",
   "execution_count": null,
   "id": "855f379b",
   "metadata": {},
   "outputs": [],
   "source": [
    "import pandas as pd\n",
    "import psycopg2\n",
    "from delta import configure_spark_with_delta_pip\n",
    "from pyspark.sql import SparkSession\n",
    "from pyspark.sql.functions import to_date, col"
   ]
  },
  {
   "cell_type": "markdown",
   "id": "54fbf1a5",
   "metadata": {},
   "source": [
    "### 2. Init Spark"
   ]
  },
  {
   "cell_type": "code",
   "execution_count": null,
   "id": "aa45be38-0b14-4eee-8039-61bac0b028b4",
   "metadata": {},
   "outputs": [],
   "source": [
    "def get_spark():\n",
    "    builder = SparkSession.builder.appName(\"BatchETL\") \\\n",
    "        .config(\"spark.sql.extensions\", \"io.delta.sql.DeltaSparkSessionExtension\") \\\n",
    "        .config(\"spark.sql.catalog.spark_catalog\", \"org.apache.spark.sql.delta.catalog.DeltaCatalog\")\n",
    "    return configure_spark_with_delta_pip(builder).getOrCreate()\n",
    "\n",
    "spark = get_spark()\n",
    "BRONZE_PATH = \"/mnt/s3mock/bronze/batch/events\"\n",
    "SILVER_PATH = \"/mnt/s3mock/silver/batch/events\"\n",
    "GOLD_PATH = \"/mnt/s3mock/gold/batch/aggregates\""
   ]
  },
  {
   "cell_type": "markdown",
   "id": "c1f614c7",
   "metadata": {},
   "source": [
    "## 3. Core logic:\n",
    "\n",
    "- Reads cleaned data (silver)\n",
    "\n",
    "- Groups by time and type\n",
    "\n",
    "- Counts events per group\n",
    "\n",
    "- Writes aggregated results to a new \"gold\" Delta table for final consumption (e.g. dashboard, reports, ML)"
   ]
  },
  {
   "cell_type": "code",
   "execution_count": null,
   "id": "898e3baf",
   "metadata": {},
   "outputs": [],
   "source": [
    "conn = psycopg2.connect(\n",
    "    dbname=\"airflow\",\n",
    "    user=\"airflow\",\n",
    "    password=\"airflow\",\n",
    "    host=\"postgres\"\n",
    ")\n",
    "df = pd.read_sql(\"SELECT * FROM events\", conn)\n",
    "conn.close()\n",
    "\n",
    "spark_df = spark.createDataFrame(df)\n",
    "spark_df.write.format(\"delta\").mode(\"overwrite\").save(BRONZE_PATH)\n",
    "\n",
    "df = spark.read.format(\"delta\").load(BRONZE_PATH)\n",
    "df.withColumn(\"event_timestamp\", to_date(col(\"timestamp\"))) \\\n",
    "  .write.format(\"delta\").mode(\"overwrite\").save(SILVER_PATH)\n",
    "\n",
    "df = spark.read.format(\"delta\").load(SILVER_PATH)\n",
    "agg = df.groupBy(\"event_timestamp\", \"event_type\") \\\n",
    "        .agg({\"user_id\": \"count\", \"timestamp\": \"count\"})\n",
    "agg.write.format(\"delta\").mode(\"overwrite\").save(GOLD_PATH)"
   ]
  }
 ],
 "metadata": {
  "kernelspec": {
   "display_name": "Python 3 (ipykernel)",
   "language": "python",
   "name": "python3"
  },
  "language_info": {
   "codemirror_mode": {
    "name": "ipython",
    "version": 3
   },
   "file_extension": ".py",
   "mimetype": "text/x-python",
   "name": "python",
   "nbconvert_exporter": "python",
   "pygments_lexer": "ipython3",
   "version": "3.11.5"
  }
 },
 "nbformat": 4,
 "nbformat_minor": 5
}
